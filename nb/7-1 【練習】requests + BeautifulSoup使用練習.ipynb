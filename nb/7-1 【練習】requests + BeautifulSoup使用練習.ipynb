{
 "cells": [
  {
   "cell_type": "markdown",
   "metadata": {},
   "source": [
    "## 【練習】\n",
    "\n",
    "請用 requests + BeautifulSoup 把 example.com 上面的內容文字抓下來。\n",
    "\n",
    "內容文字即：\n",
    "\n",
    "This domain is for use in illustrative examples in documents. You may use this domain in literature without prior coordination or asking for permission."
   ]
  }
 ],
 "metadata": {
  "kernelspec": {
   "display_name": "Python 3",
   "language": "python",
   "name": "python3"
  },
  "language_info": {
   "codemirror_mode": {
    "name": "ipython",
    "version": 3
   },
   "file_extension": ".py",
   "mimetype": "text/x-python",
   "name": "python",
   "nbconvert_exporter": "python",
   "pygments_lexer": "ipython3",
   "version": "3.8.3"
  }
 },
 "nbformat": 4,
 "nbformat_minor": 4
}
