{
 "cells": [
  {
   "cell_type": "markdown",
   "metadata": {
    "colab_type": "text",
    "id": "B0Mx5MxAXHpi"
   },
   "source": [
    "# IP Rotation\n",
    "\n",
    "參考網址：\n",
    "\n",
    "* http://free-proxy.cz/zh/\n",
    "* https://www.us-proxy.org/"
   ]
  },
  {
   "cell_type": "code",
   "execution_count": null,
   "metadata": {
    "colab": {},
    "colab_type": "code",
    "id": "RpQz-ef-TCOi"
   },
   "outputs": [],
   "source": [
    "import requests\n",
    "from bs4 import BeautifulSoup\n",
    "import random"
   ]
  },
  {
   "cell_type": "code",
   "execution_count": null,
   "metadata": {
    "colab": {},
    "colab_type": "code",
    "id": "_suKG5b1T_dB"
   },
   "outputs": [],
   "source": [
    "free_url = \"https://www.us-proxy.org/\""
   ]
  },
  {
   "cell_type": "code",
   "execution_count": null,
   "metadata": {
    "colab": {},
    "colab_type": "code",
    "id": "D0USin7TUtK0"
   },
   "outputs": [],
   "source": [
    "r = requests.get(free_url)"
   ]
  },
  {
   "cell_type": "code",
   "execution_count": null,
   "metadata": {
    "colab": {},
    "colab_type": "code",
    "id": "VvHUDHi5U0M8"
   },
   "outputs": [],
   "source": [
    "soup = BeautifulSoup(r.text)"
   ]
  },
  {
   "cell_type": "code",
   "execution_count": null,
   "metadata": {
    "colab": {},
    "colab_type": "code",
    "id": "hff5NJ2GVWhl"
   },
   "outputs": [],
   "source": [
    "free_proxies=soup.select('textarea')[0].text.split('\\n')[3:-1]"
   ]
  },
  {
   "cell_type": "code",
   "execution_count": null,
   "metadata": {
    "colab": {
     "base_uri": "https://localhost:8080/",
     "height": 1000
    },
    "colab_type": "code",
    "id": "XyP1gZ8KjirU",
    "outputId": "707ec1cb-fbc3-4108-bf57-9af935e64eb4"
   },
   "outputs": [],
   "source": [
    "free_proxies"
   ]
  },
  {
   "cell_type": "markdown",
   "metadata": {
    "colab_type": "text",
    "id": "aeKl_PkKXaO1"
   },
   "source": [
    "## 直接送出 requests"
   ]
  },
  {
   "cell_type": "code",
   "execution_count": null,
   "metadata": {
    "colab": {},
    "colab_type": "code",
    "id": "Kcn3nuczht3x"
   },
   "outputs": [],
   "source": [
    "url = \"http://httpbin.org/ip\""
   ]
  },
  {
   "cell_type": "code",
   "execution_count": null,
   "metadata": {
    "colab": {
     "base_uri": "https://localhost:8080/",
     "height": 87
    },
    "colab_type": "code",
    "id": "NUu-LfJjWOam",
    "outputId": "8edcbf1c-0c81-47c8-edb7-0a33504e8eb4"
   },
   "outputs": [],
   "source": [
    "r = requests.get(url, verify=False)\n",
    "print(r.text)"
   ]
  },
  {
   "cell_type": "markdown",
   "metadata": {
    "colab_type": "text",
    "id": "7Zi9u24FXhar"
   },
   "source": [
    "## 透過 Proxies 送出 requests"
   ]
  },
  {
   "cell_type": "code",
   "execution_count": null,
   "metadata": {
    "colab": {},
    "colab_type": "code",
    "id": "aDr_ckI4Sw2c"
   },
   "outputs": [],
   "source": [
    "free_proxies = [\n",
    "                # \"198.50.214.17:6874\",\n",
    "           \"159.89.37.52:3128\",\n",
    "          #  \"54.156.164.61:80\",\n",
    "           \"159.65.171.69:80\", #OK\n",
    "           \"161.35.50.98:3128\",\n",
    "           \"52.179.18.244:8080\",\n",
    "          #  \"157.245.254.160:8080\"\n",
    "           ]"
   ]
  },
  {
   "cell_type": "code",
   "execution_count": null,
   "metadata": {
    "colab": {
     "base_uri": "https://localhost:8080/",
     "height": 87
    },
    "colab_type": "code",
    "id": "aouq5VTHSa0l",
    "outputId": "ac30c515-f8b2-4dce-9705-882039cf1624"
   },
   "outputs": [],
   "source": [
    "i = random.choice(free_proxies)\n",
    "\n",
    "proxies = {\"https\": f\"https://{i}/\",\"http\": f\"http://{i}/\"}\n",
    "\n",
    "try:\n",
    "  r = requests.get(url, proxies=proxies, verify=False)\n",
    "  print(r.text)\n",
    "except Exception as e:\n",
    "  print(\"Connection Failed ==>\", i)"
   ]
  }
 ],
 "metadata": {
  "colab": {
   "collapsed_sections": [],
   "name": "IP Rotation.ipynb",
   "provenance": []
  },
  "kernelspec": {
   "display_name": "Python 3",
   "language": "python",
   "name": "python3"
  },
  "language_info": {
   "codemirror_mode": {
    "name": "ipython",
    "version": 3
   },
   "file_extension": ".py",
   "mimetype": "text/x-python",
   "name": "python",
   "nbconvert_exporter": "python",
   "pygments_lexer": "ipython3",
   "version": "3.8.3"
  }
 },
 "nbformat": 4,
 "nbformat_minor": 4
}
